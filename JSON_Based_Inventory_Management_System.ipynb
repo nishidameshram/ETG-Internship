{
  "nbformat": 4,
  "nbformat_minor": 0,
  "metadata": {
    "colab": {
      "name": "JSON Based Inventory Management System.ipynb",
      "provenance": [],
      "collapsed_sections": []
    },
    "kernelspec": {
      "name": "python3",
      "display_name": "Python 3"
    },
    "language_info": {
      "name": "python"
    }
  },
  "cells": [
    {
      "cell_type": "code",
      "metadata": {
        "id": "ec1oraMgOwk1"
      },
      "source": [
        "record = {'101' : {\"ProductName\": 'Dairy Milk','Expiry Date': 2022,'Category': 'Chocolates','Quantity':100,'Price':20},\n",
        "         '102' : {'ProductName': 'Amul Icecream','Expiry Date': 2024,'Category': 'Dairy Product','Quantity':300,'Price':50},\n",
        "         '103' : {'ProductName': 'Chips','Expiry Date': 2022,'Category': 'Snacks','Quantity':220,'Price':10},\n",
        "         '104' : {'ProductName': 'Parle-G','Expiry Date': 2023,'Category': 'Snacks','Quantity':320,'Price':10},\n",
        "         '105' : {'ProductName': 'KitKat','Expiry Date': 2022,'Category': 'Chocolates','Quantity':80,'Price':20},\n",
        "         '106' : {'ProductName': 'Oreo','Expiry Date': 2023,'Category': 'Snacks','Quantity':60,'Price':30},\n",
        "         '107' : {'ProductName': 'Britania Biscuits','Expiry Date': 2021,'Category': 'Snacks','Quantity':92,'Price':10},\n",
        "         '108' : {'ProductName': 'Coca-Cola','Expiry Date': 2023,'Category': 'Coldrinks','Quantity':156,'Price':15},\n",
        "         '109' : {'ProductName': 'Kurkure','Expiry Date': 2023,'Category': 'Snacks','Quantity':140,'Price':10},\n",
        "         '1010' : {'ProductName': 'lays blue','Expiry Date': 2023,'Category': 'Snacks','Quantity':40,'Price':10},\n",
        "         '1011' : {'ProductName': 'lays green','Expiry Date': 2022,'Category': 'Snacks','Quantity':89,'Price':10},\n",
        "         '1012' : {'ProductName': 'Taka Tak','Expiry Date': 2024,'Category': 'Snacks','Quantity':146,'Price':5},\n",
        "         '1013' : {'ProductName': 'Notebook','Expiry Date': 'NA','Category': 'Stationary','Quantity':120,'Price':40},\n",
        "         '1014' : {'ProductName': 'Marker pens-blue','Expiry Date': 2022,'Category': 'Stationary','Quantity':220,'Price':15},\n",
        "         '1015' : {'ProductName': 'Marker pens-black','Expiry Date': 2022,'Category': 'Stationary','Quantity':220,'Price':15},\n",
        "         '1016' : {'ProductName': 'Ballpen','Expiry Date': 'NA','Category': 'Stationary','Quantity':100,'Price':3},\n",
        "         '1017' : {'ProductName': 'Thumbs-UP','Expiry Date': 2021,'Category': 'Coldrinks','Quantity':150,'Price':25},\n",
        "         '1018': {'ProductName': 'Cadbury ','Expiry Date': 2022,'Category': 'Chocolates','Quantity':145,'Price':10},\n",
        "         '1019' : {'ProductName': 'Masks','Expiry Date': 2022,'Category': 'Covidproduct','Quantity':50,'Price':30},\n",
        "         '1020' : {'ProductName': 'Nivea Cream','Expiry Date': 2024,'Category': 'Skinproduct','Quantity':15,'Price':45},\n",
        "         '1021' : {'ProductName': 'Olive oil','Expiry Date': 2023,'Category': 'Food','Quantity':30,'Price':150},\n",
        "         '1022' : {'ProductName': 'Hair oil','Expiry Date': 2023,'Category': 'Skinproduct','Quantity':40,'Price':20},\n",
        "         '1023' : {'ProductName': 'Long notebook','Expiry Date': 'NA','Category': 'Stationary','Quantity':100,'Price':65},\n",
        "         '1024' : {'ProductName': 'Water Colors','Expiry Date': 2023,'Category': 'Stationary','Quantity':10,'Price':15},\n",
        "         '1025' : {'ProductName': 'Poster Colors','Expiry Date': 2023,'Category': 'Stationary','Quantity':20,'Price':160},\n",
        "         '1026' : {'ProductName': 'Vaseline','Expiry Date': 2023,'Category': 'Skinproduct','Quantity':50,'Price':40},\n",
        "         '1027' : {'ProductName': 'Drawing notebook','Expiry Date': 'NA','Category': 'Stationary','Quantity':50,'Price':35},\n",
        "         '1028' : {'ProductName': 'Chocochips cookies','Expiry Date': 2022,'Category': 'Snacks','Quantity':40,'Price':45},\n",
        "         '1029' : {'ProductName': 'Muffins','Expiry Date': 2021,'Category': 'Snacks','Quantity':40,'Price':15},\n",
        "         '1030' : {'ProductName': 'Gel Pen','Expiry Date': 'NA','Category': 'Stationary','Quantity':20,'Price':10}\n",
        " }"
      ],
      "execution_count": 10,
      "outputs": []
    },
    {
      "cell_type": "code",
      "metadata": {
        "colab": {
          "base_uri": "https://localhost:8080/"
        },
        "id": "-UOwtJXucR9B",
        "outputId": "56f8c833-c723-4a93-f278-794d0bd5b580"
      },
      "source": [
        "type(record)"
      ],
      "execution_count": 9,
      "outputs": [
        {
          "output_type": "execute_result",
          "data": {
            "text/plain": [
              "dict"
            ]
          },
          "metadata": {},
          "execution_count": 9
        }
      ]
    },
    {
      "cell_type": "code",
      "metadata": {
        "colab": {
          "base_uri": "https://localhost:8080/"
        },
        "id": "zmdfavUmQhz_",
        "outputId": "03a9c93d-05f8-493c-e3e3-a87f5f8ce882"
      },
      "source": [
        "record.values()\n"
      ],
      "execution_count": 14,
      "outputs": [
        {
          "output_type": "execute_result",
          "data": {
            "text/plain": [
              "dict_values([{'ProductName': 'Dairy Milk', 'Expiry Date': 2022, 'Category': 'Chocolates', 'Quantity': 100, 'Price': 20}, {'ProductName': 'Amul Icecream', 'Expiry Date': 2024, 'Category': 'Dairy Product', 'Quantity': 300, 'Price': 50}, {'ProductName': 'Chips', 'Expiry Date': 2022, 'Category': 'Snacks', 'Quantity': 220, 'Price': 10}, {'ProductName': 'Parle-G', 'Expiry Date': 2023, 'Category': 'Snacks', 'Quantity': 320, 'Price': 10}, {'ProductName': 'KitKat', 'Expiry Date': 2022, 'Category': 'Chocolates', 'Quantity': 80, 'Price': 20}, {'ProductName': 'Oreo', 'Expiry Date': 2023, 'Category': 'Snacks', 'Quantity': 60, 'Price': 30}, {'ProductName': 'Britania Biscuits', 'Expiry Date': 2021, 'Category': 'Snacks', 'Quantity': 92, 'Price': 10}, {'ProductName': 'Coca-Cola', 'Expiry Date': 2023, 'Category': 'Coldrinks', 'Quantity': 156, 'Price': 15}, {'ProductName': 'Kurkure', 'Expiry Date': 2023, 'Category': 'Snacks', 'Quantity': 140, 'Price': 10}, {'ProductName': 'lays blue', 'Expiry Date': 2023, 'Category': 'Snacks', 'Quantity': 40, 'Price': 10}, {'ProductName': 'lays green', 'Expiry Date': 2022, 'Category': 'Snacks', 'Quantity': 89, 'Price': 10}, {'ProductName': 'Taka Tak', 'Expiry Date': 2024, 'Category': 'Snacks', 'Quantity': 146, 'Price': 5}, {'ProductName': 'Notebook', 'Expiry Date': 'NA', 'Category': 'Stationary', 'Quantity': 120, 'Price': 40}, {'ProductName': 'Marker pens-blue', 'Expiry Date': 2022, 'Category': 'Stationary', 'Quantity': 220, 'Price': 15}, {'ProductName': 'Marker pens-black', 'Expiry Date': 2022, 'Category': 'Stationary', 'Quantity': 220, 'Price': 15}, {'ProductName': 'Ballpen', 'Expiry Date': 'NA', 'Category': 'Stationary', 'Quantity': 100, 'Price': 3}, {'ProductName': 'Thumbs-UP', 'Expiry Date': 2021, 'Category': 'Coldrinks', 'Quantity': 150, 'Price': 25}, {'ProductName': 'Cadbury ', 'Expiry Date': 2022, 'Category': 'Chocolates', 'Quantity': 145, 'Price': 10}, {'ProductName': 'Masks', 'Expiry Date': 2022, 'Category': 'Covidproduct', 'Quantity': 50, 'Price': 30}, {'ProductName': 'Nivea Cream', 'Expiry Date': 2024, 'Category': 'Skinproduct', 'Quantity': 15, 'Price': 45}, {'ProductName': 'Olive oil', 'Expiry Date': 2023, 'Category': 'Food', 'Quantity': 30, 'Price': 150}, {'ProductName': 'Hair oil', 'Expiry Date': 2023, 'Category': 'Skinproduct', 'Quantity': 40, 'Price': 20}, {'ProductName': 'Long notebook', 'Expiry Date': 'NA', 'Category': 'Stationary', 'Quantity': 100, 'Price': 65}, {'ProductName': 'Water Colors', 'Expiry Date': 2023, 'Category': 'Stationary', 'Quantity': 10, 'Price': 15}, {'ProductName': 'Poster Colors', 'Expiry Date': 2023, 'Category': 'Stationary', 'Quantity': 20, 'Price': 160}, {'ProductName': 'Vaseline', 'Expiry Date': 2023, 'Category': 'Skinproduct', 'Quantity': 50, 'Price': 40}, {'ProductName': 'Drawing notebook', 'Expiry Date': 'NA', 'Category': 'Stationary', 'Quantity': 50, 'Price': 35}, {'ProductName': 'Chocochips cookies', 'Expiry Date': 2022, 'Category': 'Snacks', 'Quantity': 40, 'Price': 45}, {'ProductName': 'Muffins', 'Expiry Date': 2021, 'Category': 'Snacks', 'Quantity': 40, 'Price': 15}, {'ProductName': 'Gel Pen', 'Expiry Date': 'NA', 'Category': 'Stationary', 'Quantity': 20, 'Price': 10}])"
            ]
          },
          "metadata": {},
          "execution_count": 14
        }
      ]
    },
    {
      "cell_type": "code",
      "metadata": {
        "colab": {
          "base_uri": "https://localhost:8080/"
        },
        "id": "KjzJ0Gu-Oyfc",
        "outputId": "95fc6aad-fba0-42b4-ee7e-7f0773fe9bac"
      },
      "source": [
        "print(record['1025']['ProductName'])\n",
        "print(record['1025']['Expiry Date'])\n",
        "print(record['1025']['Category'])\n",
        "print(record['1025']['Quantity'])\n",
        "print(record['1025']['Price'])"
      ],
      "execution_count": 21,
      "outputs": [
        {
          "output_type": "stream",
          "name": "stdout",
          "text": [
            "Poster Colors\n",
            "2023\n",
            "Stationary\n",
            "20\n",
            "160\n"
          ]
        }
      ]
    },
    {
      "cell_type": "code",
      "metadata": {
        "id": "cNFpB4y-TDzS"
      },
      "source": [
        "import json"
      ],
      "execution_count": 22,
      "outputs": []
    },
    {
      "cell_type": "markdown",
      "metadata": {
        "id": "r0sA_h0IWh7i"
      },
      "source": [
        "Converted dict into string \n"
      ]
    },
    {
      "cell_type": "code",
      "metadata": {
        "id": "EEWTElFhU5s1"
      },
      "source": [
        "js= json.dumps(record)"
      ],
      "execution_count": 23,
      "outputs": []
    },
    {
      "cell_type": "code",
      "metadata": {
        "colab": {
          "base_uri": "https://localhost:8080/",
          "height": 124
        },
        "id": "p1N1dLEgVBWK",
        "outputId": "0e962e3a-62b4-4367-d860-1325ccfc9536"
      },
      "source": [
        "js"
      ],
      "execution_count": 24,
      "outputs": [
        {
          "output_type": "execute_result",
          "data": {
            "application/vnd.google.colaboratory.intrinsic+json": {
              "type": "string"
            },
            "text/plain": [
              "'{\"101\": {\"ProductName\": \"Dairy Milk\", \"Expiry Date\": 2022, \"Category\": \"Chocolates\", \"Quantity\": 100, \"Price\": 20}, \"102\": {\"ProductName\": \"Amul Icecream\", \"Expiry Date\": 2024, \"Category\": \"Dairy Product\", \"Quantity\": 300, \"Price\": 50}, \"103\": {\"ProductName\": \"Chips\", \"Expiry Date\": 2022, \"Category\": \"Snacks\", \"Quantity\": 220, \"Price\": 10}, \"104\": {\"ProductName\": \"Parle-G\", \"Expiry Date\": 2023, \"Category\": \"Snacks\", \"Quantity\": 320, \"Price\": 10}, \"105\": {\"ProductName\": \"KitKat\", \"Expiry Date\": 2022, \"Category\": \"Chocolates\", \"Quantity\": 80, \"Price\": 20}, \"106\": {\"ProductName\": \"Oreo\", \"Expiry Date\": 2023, \"Category\": \"Snacks\", \"Quantity\": 60, \"Price\": 30}, \"107\": {\"ProductName\": \"Britania Biscuits\", \"Expiry Date\": 2021, \"Category\": \"Snacks\", \"Quantity\": 92, \"Price\": 10}, \"108\": {\"ProductName\": \"Coca-Cola\", \"Expiry Date\": 2023, \"Category\": \"Coldrinks\", \"Quantity\": 156, \"Price\": 15}, \"109\": {\"ProductName\": \"Kurkure\", \"Expiry Date\": 2023, \"Category\": \"Snacks\", \"Quantity\": 140, \"Price\": 10}, \"1010\": {\"ProductName\": \"lays blue\", \"Expiry Date\": 2023, \"Category\": \"Snacks\", \"Quantity\": 40, \"Price\": 10}, \"1011\": {\"ProductName\": \"lays green\", \"Expiry Date\": 2022, \"Category\": \"Snacks\", \"Quantity\": 89, \"Price\": 10}, \"1012\": {\"ProductName\": \"Taka Tak\", \"Expiry Date\": 2024, \"Category\": \"Snacks\", \"Quantity\": 146, \"Price\": 5}, \"1013\": {\"ProductName\": \"Notebook\", \"Expiry Date\": \"NA\", \"Category\": \"Stationary\", \"Quantity\": 120, \"Price\": 40}, \"1014\": {\"ProductName\": \"Marker pens-blue\", \"Expiry Date\": 2022, \"Category\": \"Stationary\", \"Quantity\": 220, \"Price\": 15}, \"1015\": {\"ProductName\": \"Marker pens-black\", \"Expiry Date\": 2022, \"Category\": \"Stationary\", \"Quantity\": 220, \"Price\": 15}, \"1016\": {\"ProductName\": \"Ballpen\", \"Expiry Date\": \"NA\", \"Category\": \"Stationary\", \"Quantity\": 100, \"Price\": 3}, \"1017\": {\"ProductName\": \"Thumbs-UP\", \"Expiry Date\": 2021, \"Category\": \"Coldrinks\", \"Quantity\": 150, \"Price\": 25}, \"1018\": {\"ProductName\": \"Cadbury \", \"Expiry Date\": 2022, \"Category\": \"Chocolates\", \"Quantity\": 145, \"Price\": 10}, \"1019\": {\"ProductName\": \"Masks\", \"Expiry Date\": 2022, \"Category\": \"Covidproduct\", \"Quantity\": 50, \"Price\": 30}, \"1020\": {\"ProductName\": \"Nivea Cream\", \"Expiry Date\": 2024, \"Category\": \"Skinproduct\", \"Quantity\": 15, \"Price\": 45}, \"1021\": {\"ProductName\": \"Olive oil\", \"Expiry Date\": 2023, \"Category\": \"Food\", \"Quantity\": 30, \"Price\": 150}, \"1022\": {\"ProductName\": \"Hair oil\", \"Expiry Date\": 2023, \"Category\": \"Skinproduct\", \"Quantity\": 40, \"Price\": 20}, \"1023\": {\"ProductName\": \"Long notebook\", \"Expiry Date\": \"NA\", \"Category\": \"Stationary\", \"Quantity\": 100, \"Price\": 65}, \"1024\": {\"ProductName\": \"Water Colors\", \"Expiry Date\": 2023, \"Category\": \"Stationary\", \"Quantity\": 10, \"Price\": 15}, \"1025\": {\"ProductName\": \"Poster Colors\", \"Expiry Date\": 2023, \"Category\": \"Stationary\", \"Quantity\": 20, \"Price\": 160}, \"1026\": {\"ProductName\": \"Vaseline\", \"Expiry Date\": 2023, \"Category\": \"Skinproduct\", \"Quantity\": 50, \"Price\": 40}, \"1027\": {\"ProductName\": \"Drawing notebook\", \"Expiry Date\": \"NA\", \"Category\": \"Stationary\", \"Quantity\": 50, \"Price\": 35}, \"1028\": {\"ProductName\": \"Chocochips cookies\", \"Expiry Date\": 2022, \"Category\": \"Snacks\", \"Quantity\": 40, \"Price\": 45}, \"1029\": {\"ProductName\": \"Muffins\", \"Expiry Date\": 2021, \"Category\": \"Snacks\", \"Quantity\": 40, \"Price\": 15}, \"1030\": {\"ProductName\": \"Gel Pen\", \"Expiry Date\": \"NA\", \"Category\": \"Stationary\", \"Quantity\": 20, \"Price\": 10}}'"
            ]
          },
          "metadata": {},
          "execution_count": 24
        }
      ]
    },
    {
      "cell_type": "code",
      "metadata": {
        "colab": {
          "base_uri": "https://localhost:8080/"
        },
        "id": "4f7LKfPDVG_K",
        "outputId": "e5fbd1bb-64c1-4293-bd49-c59c8d51e161"
      },
      "source": [
        "type(js)"
      ],
      "execution_count": 25,
      "outputs": [
        {
          "output_type": "execute_result",
          "data": {
            "text/plain": [
              "str"
            ]
          },
          "metadata": {},
          "execution_count": 25
        }
      ]
    },
    {
      "cell_type": "code",
      "metadata": {
        "colab": {
          "base_uri": "https://localhost:8080/"
        },
        "id": "ESY__77hVKur",
        "outputId": "526c8ce4-9d8a-4c3b-d0d8-17853f87a838"
      },
      "source": [
        "type(record)"
      ],
      "execution_count": 27,
      "outputs": [
        {
          "output_type": "execute_result",
          "data": {
            "text/plain": [
              "dict"
            ]
          },
          "metadata": {},
          "execution_count": 27
        }
      ]
    },
    {
      "cell_type": "code",
      "metadata": {
        "id": "_0xPN21AVVTq"
      },
      "source": [
        "fd = open(\"record.json\",'w')\n",
        "fd.write(js)\n",
        "fd.close()"
      ],
      "execution_count": 26,
      "outputs": []
    },
    {
      "cell_type": "code",
      "metadata": {
        "id": "DZX7FhVyVVQx"
      },
      "source": [
        "fd= open(\"record.json\",'r')\n",
        "txt= fd.read()\n",
        "fd.close()"
      ],
      "execution_count": 28,
      "outputs": []
    },
    {
      "cell_type": "code",
      "metadata": {
        "colab": {
          "base_uri": "https://localhost:8080/",
          "height": 124
        },
        "id": "wM-80_DtVVNK",
        "outputId": "12704bd9-4a8e-47ee-ccec-75ac41d57df7"
      },
      "source": [
        "txt"
      ],
      "execution_count": 29,
      "outputs": [
        {
          "output_type": "execute_result",
          "data": {
            "application/vnd.google.colaboratory.intrinsic+json": {
              "type": "string"
            },
            "text/plain": [
              "'{\"101\": {\"ProductName\": \"Dairy Milk\", \"Expiry Date\": 2022, \"Category\": \"Chocolates\", \"Quantity\": 100, \"Price\": 20}, \"102\": {\"ProductName\": \"Amul Icecream\", \"Expiry Date\": 2024, \"Category\": \"Dairy Product\", \"Quantity\": 300, \"Price\": 50}, \"103\": {\"ProductName\": \"Chips\", \"Expiry Date\": 2022, \"Category\": \"Snacks\", \"Quantity\": 220, \"Price\": 10}, \"104\": {\"ProductName\": \"Parle-G\", \"Expiry Date\": 2023, \"Category\": \"Snacks\", \"Quantity\": 320, \"Price\": 10}, \"105\": {\"ProductName\": \"KitKat\", \"Expiry Date\": 2022, \"Category\": \"Chocolates\", \"Quantity\": 80, \"Price\": 20}, \"106\": {\"ProductName\": \"Oreo\", \"Expiry Date\": 2023, \"Category\": \"Snacks\", \"Quantity\": 60, \"Price\": 30}, \"107\": {\"ProductName\": \"Britania Biscuits\", \"Expiry Date\": 2021, \"Category\": \"Snacks\", \"Quantity\": 92, \"Price\": 10}, \"108\": {\"ProductName\": \"Coca-Cola\", \"Expiry Date\": 2023, \"Category\": \"Coldrinks\", \"Quantity\": 156, \"Price\": 15}, \"109\": {\"ProductName\": \"Kurkure\", \"Expiry Date\": 2023, \"Category\": \"Snacks\", \"Quantity\": 140, \"Price\": 10}, \"1010\": {\"ProductName\": \"lays blue\", \"Expiry Date\": 2023, \"Category\": \"Snacks\", \"Quantity\": 40, \"Price\": 10}, \"1011\": {\"ProductName\": \"lays green\", \"Expiry Date\": 2022, \"Category\": \"Snacks\", \"Quantity\": 89, \"Price\": 10}, \"1012\": {\"ProductName\": \"Taka Tak\", \"Expiry Date\": 2024, \"Category\": \"Snacks\", \"Quantity\": 146, \"Price\": 5}, \"1013\": {\"ProductName\": \"Notebook\", \"Expiry Date\": \"NA\", \"Category\": \"Stationary\", \"Quantity\": 120, \"Price\": 40}, \"1014\": {\"ProductName\": \"Marker pens-blue\", \"Expiry Date\": 2022, \"Category\": \"Stationary\", \"Quantity\": 220, \"Price\": 15}, \"1015\": {\"ProductName\": \"Marker pens-black\", \"Expiry Date\": 2022, \"Category\": \"Stationary\", \"Quantity\": 220, \"Price\": 15}, \"1016\": {\"ProductName\": \"Ballpen\", \"Expiry Date\": \"NA\", \"Category\": \"Stationary\", \"Quantity\": 100, \"Price\": 3}, \"1017\": {\"ProductName\": \"Thumbs-UP\", \"Expiry Date\": 2021, \"Category\": \"Coldrinks\", \"Quantity\": 150, \"Price\": 25}, \"1018\": {\"ProductName\": \"Cadbury \", \"Expiry Date\": 2022, \"Category\": \"Chocolates\", \"Quantity\": 145, \"Price\": 10}, \"1019\": {\"ProductName\": \"Masks\", \"Expiry Date\": 2022, \"Category\": \"Covidproduct\", \"Quantity\": 50, \"Price\": 30}, \"1020\": {\"ProductName\": \"Nivea Cream\", \"Expiry Date\": 2024, \"Category\": \"Skinproduct\", \"Quantity\": 15, \"Price\": 45}, \"1021\": {\"ProductName\": \"Olive oil\", \"Expiry Date\": 2023, \"Category\": \"Food\", \"Quantity\": 30, \"Price\": 150}, \"1022\": {\"ProductName\": \"Hair oil\", \"Expiry Date\": 2023, \"Category\": \"Skinproduct\", \"Quantity\": 40, \"Price\": 20}, \"1023\": {\"ProductName\": \"Long notebook\", \"Expiry Date\": \"NA\", \"Category\": \"Stationary\", \"Quantity\": 100, \"Price\": 65}, \"1024\": {\"ProductName\": \"Water Colors\", \"Expiry Date\": 2023, \"Category\": \"Stationary\", \"Quantity\": 10, \"Price\": 15}, \"1025\": {\"ProductName\": \"Poster Colors\", \"Expiry Date\": 2023, \"Category\": \"Stationary\", \"Quantity\": 20, \"Price\": 160}, \"1026\": {\"ProductName\": \"Vaseline\", \"Expiry Date\": 2023, \"Category\": \"Skinproduct\", \"Quantity\": 50, \"Price\": 40}, \"1027\": {\"ProductName\": \"Drawing notebook\", \"Expiry Date\": \"NA\", \"Category\": \"Stationary\", \"Quantity\": 50, \"Price\": 35}, \"1028\": {\"ProductName\": \"Chocochips cookies\", \"Expiry Date\": 2022, \"Category\": \"Snacks\", \"Quantity\": 40, \"Price\": 45}, \"1029\": {\"ProductName\": \"Muffins\", \"Expiry Date\": 2021, \"Category\": \"Snacks\", \"Quantity\": 40, \"Price\": 15}, \"1030\": {\"ProductName\": \"Gel Pen\", \"Expiry Date\": \"NA\", \"Category\": \"Stationary\", \"Quantity\": 20, \"Price\": 10}}'"
            ]
          },
          "metadata": {},
          "execution_count": 29
        }
      ]
    },
    {
      "cell_type": "markdown",
      "metadata": {
        "id": "dcDAoP4LWunC"
      },
      "source": [
        "again converting dict into JSon"
      ]
    },
    {
      "cell_type": "code",
      "metadata": {
        "id": "swH37WZjVVIq"
      },
      "source": [
        "record =json.loads(txt)"
      ],
      "execution_count": 30,
      "outputs": []
    },
    {
      "cell_type": "code",
      "metadata": {
        "colab": {
          "base_uri": "https://localhost:8080/",
          "height": 35
        },
        "id": "Jj9KPsvPVVBq",
        "outputId": "5653c56d-f2f4-41bb-cd03-f83a2f7137f1"
      },
      "source": [
        "import time\n",
        "time.ctime()"
      ],
      "execution_count": 31,
      "outputs": [
        {
          "output_type": "execute_result",
          "data": {
            "application/vnd.google.colaboratory.intrinsic+json": {
              "type": "string"
            },
            "text/plain": [
              "'Sat Sep  4 18:40:25 2021'"
            ]
          },
          "metadata": {},
          "execution_count": 31
        }
      ]
    },
    {
      "cell_type": "code",
      "metadata": {
        "id": "UOWa6VbeVUfq"
      },
      "source": [
        ""
      ],
      "execution_count": null,
      "outputs": []
    }
  ]
}