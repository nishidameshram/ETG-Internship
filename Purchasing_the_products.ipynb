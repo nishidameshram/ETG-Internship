{
  "nbformat": 4,
  "nbformat_minor": 0,
  "metadata": {
    "colab": {
      "name": "Purchasing the products.ipynb",
      "provenance": []
    },
    "kernelspec": {
      "name": "python3",
      "display_name": "Python 3"
    },
    "language_info": {
      "name": "python"
    }
  },
  "cells": [
    {
      "cell_type": "markdown",
      "metadata": {
        "id": "j0WKs_rRI5n-"
      },
      "source": [
        "## Read the Inventory\n",
        "\n",
        "\n",
        "\n"
      ]
    },
    {
      "cell_type": "code",
      "metadata": {
        "id": "Q9IpOB7yI-Fe"
      },
      "source": [
        "import json\n",
        "\n",
        "fd = open(\"record.json\",'r')\n",
        "r = fd.read()\n",
        "fd.close()\n",
        "\n",
        "records = json.loads(r)"
      ],
      "execution_count": 1,
      "outputs": []
    },
    {
      "cell_type": "code",
      "metadata": {
        "colab": {
          "base_uri": "https://localhost:8080/"
        },
        "id": "7LoNt2xjJFSV",
        "outputId": "93b57ac4-87cb-4576-e86f-f24d97936d2e"
      },
      "source": [
        "records"
      ],
      "execution_count": 5,
      "outputs": [
        {
          "output_type": "execute_result",
          "data": {
            "text/plain": [
              "{'101': {'Category': 'Chocolates',\n",
              "  'Expiry Date': 2022,\n",
              "  'Price': 20,\n",
              "  'ProductName': 'Dairy Milk',\n",
              "  'Quantity': 100},\n",
              " '1010': {'Category': 'Snacks',\n",
              "  'Expiry Date': 2023,\n",
              "  'Price': 10,\n",
              "  'ProductName': 'lays blue',\n",
              "  'Quantity': 40},\n",
              " '1011': {'Category': 'Snacks',\n",
              "  'Expiry Date': 2022,\n",
              "  'Price': 10,\n",
              "  'ProductName': 'lays green',\n",
              "  'Quantity': 89},\n",
              " '1012': {'Category': 'Snacks',\n",
              "  'Expiry Date': 2024,\n",
              "  'Price': 5,\n",
              "  'ProductName': 'Taka Tak',\n",
              "  'Quantity': 146},\n",
              " '1013': {'Category': 'Stationary',\n",
              "  'Expiry Date': 'NA',\n",
              "  'Price': 40,\n",
              "  'ProductName': 'Notebook',\n",
              "  'Quantity': 120},\n",
              " '1014': {'Category': 'Stationary',\n",
              "  'Expiry Date': 2022,\n",
              "  'Price': 15,\n",
              "  'ProductName': 'Marker pens-blue',\n",
              "  'Quantity': 220},\n",
              " '1015': {'Category': 'Stationary',\n",
              "  'Expiry Date': 2022,\n",
              "  'Price': 15,\n",
              "  'ProductName': 'Marker pens-black',\n",
              "  'Quantity': 220},\n",
              " '1016': {'Category': 'Stationary',\n",
              "  'Expiry Date': 'NA',\n",
              "  'Price': 3,\n",
              "  'ProductName': 'Ballpen',\n",
              "  'Quantity': 100},\n",
              " '1017': {'Category': 'Coldrinks',\n",
              "  'Expiry Date': 2021,\n",
              "  'Price': 25,\n",
              "  'ProductName': 'Thumbs-UP',\n",
              "  'Quantity': 150},\n",
              " '1018': {'Category': 'Chocolates',\n",
              "  'Expiry Date': 2022,\n",
              "  'Price': 10,\n",
              "  'ProductName': 'Cadbury ',\n",
              "  'Quantity': 145},\n",
              " '1019': {'Category': 'Covidproduct',\n",
              "  'Expiry Date': 2022,\n",
              "  'Price': 30,\n",
              "  'ProductName': 'Masks',\n",
              "  'Quantity': 50},\n",
              " '102': {'Category': 'Dairy Product',\n",
              "  'Expiry Date': 2024,\n",
              "  'Price': 50,\n",
              "  'ProductName': 'Amul Icecream',\n",
              "  'Quantity': 300},\n",
              " '1020': {'Category': 'Skinproduct',\n",
              "  'Expiry Date': 2024,\n",
              "  'Price': 45,\n",
              "  'ProductName': 'Nivea Cream',\n",
              "  'Quantity': 15},\n",
              " '1021': {'Category': 'Food',\n",
              "  'Expiry Date': 2023,\n",
              "  'Price': 150,\n",
              "  'ProductName': 'Olive oil',\n",
              "  'Quantity': 30},\n",
              " '1022': {'Category': 'Skinproduct',\n",
              "  'Expiry Date': 2023,\n",
              "  'Price': 20,\n",
              "  'ProductName': 'Hair oil',\n",
              "  'Quantity': 40},\n",
              " '1023': {'Category': 'Stationary',\n",
              "  'Expiry Date': 'NA',\n",
              "  'Price': 65,\n",
              "  'ProductName': 'Long notebook',\n",
              "  'Quantity': 100},\n",
              " '1024': {'Category': 'Stationary',\n",
              "  'Expiry Date': 2023,\n",
              "  'Price': 15,\n",
              "  'ProductName': 'Water Colors',\n",
              "  'Quantity': 10},\n",
              " '1025': {'Category': 'Stationary',\n",
              "  'Expiry Date': 2023,\n",
              "  'Price': 160,\n",
              "  'ProductName': 'Poster Colors',\n",
              "  'Quantity': 20},\n",
              " '1026': {'Category': 'Skinproduct',\n",
              "  'Expiry Date': 2023,\n",
              "  'Price': 40,\n",
              "  'ProductName': 'Vaseline',\n",
              "  'Quantity': 50},\n",
              " '1027': {'Category': 'Stationary',\n",
              "  'Expiry Date': 'NA',\n",
              "  'Price': 35,\n",
              "  'ProductName': 'Drawing notebook',\n",
              "  'Quantity': 50},\n",
              " '1028': {'Category': 'Snacks',\n",
              "  'Expiry Date': 2022,\n",
              "  'Price': 45,\n",
              "  'ProductName': 'Chocochips cookies',\n",
              "  'Quantity': 40},\n",
              " '1029': {'Category': 'Snacks',\n",
              "  'Expiry Date': 2021,\n",
              "  'Price': 15,\n",
              "  'ProductName': 'Muffins',\n",
              "  'Quantity': 40},\n",
              " '103': {'Category': 'Snacks',\n",
              "  'Expiry Date': 2022,\n",
              "  'Price': 10,\n",
              "  'ProductName': 'Chips',\n",
              "  'Quantity': 220},\n",
              " '1030': {'Category': 'Stationary',\n",
              "  'Expiry Date': 'NA',\n",
              "  'Price': 10,\n",
              "  'ProductName': 'Gel Pen',\n",
              "  'Quantity': 20},\n",
              " '104': {'Category': 'Snacks',\n",
              "  'Expiry Date': 2023,\n",
              "  'Price': 10,\n",
              "  'ProductName': 'Parle-G',\n",
              "  'Quantity': 320},\n",
              " '105': {'Category': 'Chocolates',\n",
              "  'Expiry Date': 2022,\n",
              "  'Price': 20,\n",
              "  'ProductName': 'KitKat',\n",
              "  'Quantity': 80},\n",
              " '106': {'Category': 'Snacks',\n",
              "  'Expiry Date': 2023,\n",
              "  'Price': 30,\n",
              "  'ProductName': 'Oreo',\n",
              "  'Quantity': 60},\n",
              " '107': {'Category': 'Snacks',\n",
              "  'Expiry Date': 2021,\n",
              "  'Price': 10,\n",
              "  'ProductName': 'Britania Biscuits',\n",
              "  'Quantity': 92},\n",
              " '108': {'Category': 'Coldrinks',\n",
              "  'Expiry Date': 2023,\n",
              "  'Price': 15,\n",
              "  'ProductName': 'Coca-Cola',\n",
              "  'Quantity': 156},\n",
              " '109': {'Category': 'Snacks',\n",
              "  'Expiry Date': 2023,\n",
              "  'Price': 10,\n",
              "  'ProductName': 'Kurkure',\n",
              "  'Quantity': 140}}"
            ]
          },
          "metadata": {},
          "execution_count": 5
        }
      ]
    },
    {
      "cell_type": "markdown",
      "metadata": {
        "id": "XsA25CHYJTW0"
      },
      "source": [
        "## Purchase"
      ]
    },
    {
      "cell_type": "code",
      "metadata": {
        "colab": {
          "base_uri": "https://localhost:8080/"
        },
        "id": "SVm6spAXJVDk",
        "outputId": "837c2d80-4ef2-409b-e3af-a8f1622b082b"
      },
      "source": [
        "\n",
        "ui_prod  = str(input(\"Enter the product_Id: \"))\n",
        "ui_quant = int(input(\"Enter the quantity: \"))\n",
        "\n",
        "\n",
        "print(\"Product: \", records[ui_prod]['ProductName'])\n",
        "print(\"Price: \", records[ui_prod]['Price'])\n",
        "print(\"Billing Amount: \", records[ui_prod]['Price'] * ui_quant)\n",
        "\n",
        "records[ui_prod]['Quantity'] = records[ui_prod]['Quantity'] - ui_quant\n"
      ],
      "execution_count": 7,
      "outputs": [
        {
          "output_type": "stream",
          "name": "stdout",
          "text": [
            "Enter the product_Id: 1014\n",
            "Enter the quantity: 2\n",
            "Product:  Marker pens-blue\n",
            "Price:  15\n",
            "Billing Amount:  30\n"
          ]
        }
      ]
    },
    {
      "cell_type": "markdown",
      "metadata": {
        "id": "kHaCcYKVJ_v2"
      },
      "source": [
        "## Update Inventory after purchase"
      ]
    },
    {
      "cell_type": "code",
      "metadata": {
        "id": "AT8cXhHRKCSF"
      },
      "source": [
        "\n",
        "js = json.dumps(records)\n",
        "\n",
        "fd = open(\"record.json\",'w')\n",
        "fd.write(js)\n",
        "fd.close()"
      ],
      "execution_count": 8,
      "outputs": []
    },
    {
      "cell_type": "code",
      "metadata": {
        "id": "2zkOUV8UKGFs"
      },
      "source": [
        "records"
      ],
      "execution_count": null,
      "outputs": []
    },
    {
      "cell_type": "markdown",
      "metadata": {
        "id": "8D9V84qnKyCF"
      },
      "source": [
        "## Sales JSON\n"
      ]
    },
    {
      "cell_type": "code",
      "metadata": {
        "colab": {
          "base_uri": "https://localhost:8080/"
        },
        "id": "CbiSTvRhK1el",
        "outputId": "137a1d04-5a41-4a4b-d462-481bdd2e5583"
      },
      "source": [
        "{'ProductName' : ui_prod, 'Quantity' : ui_quant, 'amount': records[ui_prod]['Price'] * ui_quant}\n"
      ],
      "execution_count": 14,
      "outputs": [
        {
          "output_type": "execute_result",
          "data": {
            "text/plain": [
              "{'ProductName': '1014', 'Quantity': 2, 'amount': 30}"
            ]
          },
          "metadata": {},
          "execution_count": 14
        }
      ]
    },
    {
      "cell_type": "code",
      "metadata": {
        "id": "T8sP1zQgLfD1"
      },
      "source": [
        "sales = {1 : {'ProductName' : ui_prod, 'Quantity' : ui_quant, 'amount': records[ui_prod]['Price'] * ui_quant},\n",
        "         2 : {'ProductName' : ui_prod, 'Quantity' : ui_quant, 'amount': records[ui_prod]['Price'] * ui_quant},\n",
        "         3 : {'ProductName' : ui_prod, 'Quantity' : ui_quant, 'amount': records[ui_prod]['Price'] * ui_quant}}"
      ],
      "execution_count": 17,
      "outputs": []
    },
    {
      "cell_type": "code",
      "metadata": {
        "id": "1Az5lRT6LrbM"
      },
      "source": [
        "sale = json.dumps(sales)"
      ],
      "execution_count": 18,
      "outputs": []
    },
    {
      "cell_type": "code",
      "metadata": {
        "colab": {
          "base_uri": "https://localhost:8080/"
        },
        "id": "sYhgcGQlLt20",
        "outputId": "ca377ec3-fea5-4cc2-e86b-165c79edd8c4"
      },
      "source": [
        "sales"
      ],
      "execution_count": 19,
      "outputs": [
        {
          "output_type": "execute_result",
          "data": {
            "text/plain": [
              "{1: {'ProductName': '1014', 'Quantity': 2, 'amount': 30},\n",
              " 2: {'ProductName': '1014', 'Quantity': 2, 'amount': 30},\n",
              " 3: {'ProductName': '1014', 'Quantity': 2, 'amount': 30}}"
            ]
          },
          "metadata": {},
          "execution_count": 19
        }
      ]
    }
  ]
}